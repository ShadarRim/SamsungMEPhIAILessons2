{
 "cells": [
  {
   "cell_type": "markdown",
   "metadata": {},
   "source": [
    "# Знакомство с SymPy. Часть 2"
   ]
  },
  {
   "cell_type": "markdown",
   "metadata": {},
   "source": [
    "### Самостоятельная работа"
   ]
  },
  {
   "cell_type": "markdown",
   "metadata": {},
   "source": [
    "### Котов Даниэль Александрович (kda046), группа: Б21-505"
   ]
  },
  {
   "cell_type": "markdown",
   "metadata": {},
   "source": [
    "**Выполните указанные ниже действия, сохраните свою работу в виде ipynb-файла с именем `kda046_sr02_21.ipynb` и прикрепите этот файл к сообщению своему преподавателю**."
   ]
  },
  {
   "cell_type": "markdown",
   "metadata": {},
   "source": [
    "**Задание 1.** Постройте график той первообразной функции $(4x+5)^2(4x-11)^3$, которая в точке $x_0=8$ принимает значение $y_0=15361$."
   ]
  },
  {
   "cell_type": "code",
   "execution_count": null,
   "metadata": {},
   "outputs": [],
   "source": []
  },
  {
   "cell_type": "markdown",
   "metadata": {},
   "source": [
    "**Задание 2.** Найдите объём параллелепипеда, построенного на векторах $\\vec{u} = (-908,1278,1033)$, $\\vec{v} = (-991,1219,-897)$ и $\\vec{w} = (-789,1218,-801)$.\n",
    "Завершите решение созданием (вручную) ячейки типа `Markdown`,\n",
    "в которой полученному ответу, округлённому до тысяч,\n",
    "предшествует текст «`Ответ:`»"
   ]
  },
  {
   "cell_type": "code",
   "execution_count": null,
   "metadata": {},
   "outputs": [],
   "source": []
  },
  {
   "cell_type": "markdown",
   "metadata": {},
   "source": [
    "**Задание 3.** Найдите с четырьмя значащими цифрами величину угла в радианах между плоскостью $\\displaystyle \\pi\\colon 1221x + 1142y + 1215z - 801 = 0$ и прямой $\\displaystyle l\\colon \\left\\{\\begin{array}{l}\n",
    "x(t) = -837t - 1118\\\\\n",
    "y(t)=-797t + 960\\\\\n",
    "z(t)=-961t + 1089\n",
    "\\end{array}\\right.$."
   ]
  },
  {
   "cell_type": "code",
   "execution_count": null,
   "metadata": {},
   "outputs": [],
   "source": []
  }
 ],
 "metadata": {
  "kernelspec": {
   "display_name": "Python 3",
   "language": "python",
   "name": "python3"
  },
  "language_info": {
   "codemirror_mode": {
    "name": "ipython",
    "version": 3
   },
   "file_extension": ".py",
   "mimetype": "text/x-python",
   "name": "python",
   "nbconvert_exporter": "python",
   "pygments_lexer": "ipython3",
   "version": "3.7.0"
  }
 },
 "nbformat": 4,
 "nbformat_minor": 2
}
