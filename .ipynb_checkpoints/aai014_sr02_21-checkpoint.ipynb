{
 "cells": [
  {
   "cell_type": "markdown",
   "metadata": {},
   "source": [
    "# Знакомство с SymPy. Часть 2"
   ]
  },
  {
   "cell_type": "markdown",
   "metadata": {},
   "source": [
    "### Самостоятельная работа"
   ]
  },
  {
   "cell_type": "markdown",
   "metadata": {},
   "source": [
    "### Алексенко Артемий Игоревич (aai014), группа: Б21-505"
   ]
  },
  {
   "cell_type": "markdown",
   "metadata": {},
   "source": [
    "**Выполните указанные ниже действия, сохраните свою работу в виде ipynb-файла с именем `aai014_sr02_21.ipynb` и прикрепите этот файл к сообщению своему преподавателю**."
   ]
  },
  {
   "cell_type": "markdown",
   "metadata": {},
   "source": [
    "**Задание 1.** Постройте график той первообразной функции $(4x+5)^2(3x-11)^2$, которая в точке $x_0=10$ принимает значение $y_0=10237$."
   ]
  },
  {
   "cell_type": "code",
   "execution_count": 25,
   "metadata": {},
   "outputs": [
    {
     "data": {
      "image/png": "[encoded data removed]",
      "text/plain": [
       "<Figure size 432x288 with 1 Axes>"
      ]
     },
     "metadata": {
      "needs_background": "light"
     },
     "output_type": "display_data"
    },
    {
     "data": {
      "text/plain": [
       "<sympy.plotting.plot.Plot at 0x7f9b260df1d0>"
      ]
     },
     "execution_count": 25,
     "metadata": {},
     "output_type": "execute_result"
    }
   ],
   "source": [
    "from sympy import *\n",
    "var('x, y, z')\n",
    "a = (4 * x + 5)**2 * (3 * x - 11)**2 \n",
    "integrate(a, x)\n",
    "plot(a - abs(10237  + a.subs(x, 10)))"
   ]
  },
  {
   "cell_type": "markdown",
   "metadata": {},
   "source": [
    "**Задание 2.** Найдите площадь треугольника, построенного на векторах $\\vec{u} = (1005,-811)$ и $\\vec{v} = (1166,-980)$.\n",
    "Завершите решение созданием (вручную) ячейки типа `Markdown`,\n",
    "в которой полученному ответу, округлённому до тысяч,\n",
    "предшествует текст «`Ответ:`»"
   ]
  },
  {
   "cell_type": "code",
   "execution_count": 22,
   "metadata": {},
   "outputs": [
    {
     "data": {
      "text/latex": [
       "$\\displaystyle \\left[\\begin{matrix}0\\\\0\\\\-39274\\end{matrix}\\right]$"
      ],
      "text/plain": [
       "Matrix([\n",
       "[     0],\n",
       "[     0],\n",
       "[-39274]])"
      ]
     },
     "execution_count": 22,
     "metadata": {},
     "output_type": "execute_result"
    }
   ],
   "source": [
    "m2 = Matrix([[1005, -811],[1166, -980]])\n",
    "m2.det()\n",
    "v1 = Matrix([1005, -811,0])\n",
    "v2 = Matrix([1166, -980,0])\n",
    "abs(cross"
   ]
  },
  {
   "cell_type": "markdown",
   "metadata": {},
   "source": [
    "**Задание 3.** Найдите с четырьмя значащими цифрами величину угла в радианах между плоскостями $\\displaystyle \\pi_1\\colon 1091x - 873y - 792z + 1063 = 0$ и $\\displaystyle \\pi_2\\colon 1190x + 1048y + 1083z - 867 = 0$."
   ]
  },
  {
   "cell_type": "code",
   "execution_count": null,
   "metadata": {},
   "outputs": [],
   "source": []
  }
 ],
 "metadata": {
  "kernelspec": {
   "display_name": "Python 3 (ipykernel)",
   "language": "python",
   "name": "python3"
  },
  "language_info": {
   "codemirror_mode": {
    "name": "ipython",
    "version": 3
   },
   "file_extension": ".py",
   "mimetype": "text/x-python",
   "name": "python",
   "nbconvert_exporter": "python",
   "pygments_lexer": "ipython3",
   "version": "3.7.10"
  }
 },
 "nbformat": 4,
 "nbformat_minor": 2
}
