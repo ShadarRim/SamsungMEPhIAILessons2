{
 "cells": [
  {
   "cell_type": "markdown",
   "metadata": {},
   "source": [
    "# Знакомство с SymPy. Часть 2"
   ]
  },
  {
   "cell_type": "markdown",
   "metadata": {},
   "source": [
    "### Самостоятельная работа"
   ]
  },
  {
   "cell_type": "markdown",
   "metadata": {},
   "source": [
    "### Колесников Алексей Дмитриевич (kad026), группа: Б21-505"
   ]
  },
  {
   "cell_type": "markdown",
   "metadata": {},
   "source": [
    "**Выполните указанные ниже действия, сохраните свою работу в виде ipynb-файла с именем `kad026_sr02_21.ipynb` и прикрепите этот файл к сообщению своему преподавателю**."
   ]
  },
  {
   "cell_type": "markdown",
   "metadata": {},
   "source": [
    "**Задание 1.** Постройте график той первообразной функции $(6x+5)^2(4x-13)^2$, которая в точке $x_0=1$ принимает значение $y_0=19147$."
   ]
  },
  {
   "cell_type": "code",
   "execution_count": 5,
   "metadata": {},
   "outputs": [
    {
     "data": {
      "text/latex": [
       "$\\displaystyle \\frac{576 x^{5}}{5} - 696 x^{4} + \\frac{244 x^{3}}{3} + 3770 x^{2} + 4225 x$"
      ],
      "text/plain": [
       "576*x**5/5 - 696*x**4 + 244*x**3/3 + 3770*x**2 + 4225*x"
      ]
     },
     "execution_count": 5,
     "metadata": {},
     "output_type": "execute_result"
    }
   ],
   "source": [
    "from sympy import *\n",
    "var ('x')\n",
    "Integral((6*x+5)**2*(4*x-13)**2).doit()"
   ]
  },
  {
   "cell_type": "markdown",
   "metadata": {},
   "source": [
    "**Задание 2.** Найдите объём тетраэдра, построенного на векторах $\\vec{u} = (-920,-720,1008)$, $\\vec{v} = (-965,1170,1142)$ и $\\vec{w} = (-762,1286,1017)$.\n",
    "Завершите решение созданием (вручную) ячейки типа `Markdown`,\n",
    "в которой полученному ответу, округлённому до тысяч,\n",
    "предшествует текст «`Ответ:`»"
   ]
  },
  {
   "cell_type": "code",
   "execution_count": 26,
   "metadata": {},
   "outputs": [
    {
     "name": "stdout",
     "output_type": "stream",
     "text": [
      "Ответ: 29314000.0000000\n"
     ]
    }
   ],
   "source": [
    "from sympy import *\n",
    "print(f'Ответ: {(abs(Matrix([[-920, -720, 1008], [-965, 1170, 1142], [-762, 1286, 1017]]).det())/6).round(-3)}')"
   ]
  },
  {
   "cell_type": "markdown",
   "metadata": {},
   "source": [
    "**Задание 3.** Найдите с четырьмя значащими цифрами величину угла в градусах между прямыми $\\displaystyle l_1\\colon \\left\\{\\begin{array}{l}\n",
    "x(t) = -706t + 727\\\\\n",
    "y(t)=1104t - 791\\\\\n",
    "z(t)=1033t + 1295\n",
    "\\end{array}\\right.$ и $\\displaystyle l_2\\colon \\left\\{\\begin{array}{l}\n",
    "x(t) = -881t - 707\\\\\n",
    "y(t)=-812t + 847\\\\\n",
    "z(t)=-988t + 1155\n",
    "\\end{array}\\right.$."
   ]
  },
  {
   "cell_type": "code",
   "execution_count": null,
   "metadata": {},
   "outputs": [],
   "source": []
  }
 ],
 "metadata": {
  "kernelspec": {
   "display_name": "Python 3 (ipykernel)",
   "language": "python",
   "name": "python3"
  },
  "language_info": {
   "codemirror_mode": {
    "name": "ipython",
    "version": 3
   },
   "file_extension": ".py",
   "mimetype": "text/x-python",
   "name": "python",
   "nbconvert_exporter": "python",
   "pygments_lexer": "ipython3",
   "version": "3.7.10"
  }
 },
 "nbformat": 4,
 "nbformat_minor": 2
}
