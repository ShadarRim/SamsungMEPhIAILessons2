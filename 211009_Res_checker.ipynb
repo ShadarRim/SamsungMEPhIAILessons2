{
 "cells": [
  {
   "cell_type": "code",
   "execution_count": 8,
   "metadata": {},
   "outputs": [],
   "source": [
    "import pandas as pd \n",
    "import numpy as np\n",
    "import os\n",
    "from sklearn.metrics import mean_squared_error as mse, r2_score as r2"
   ]
  },
  {
   "cell_type": "code",
   "execution_count": 9,
   "metadata": {},
   "outputs": [],
   "source": [
    "df_res = pd.read_csv('../res_test.csv')\n",
    "true_values = df_res['median_house_value']"
   ]
  },
  {
   "cell_type": "code",
   "execution_count": 15,
   "metadata": {},
   "outputs": [
    {
     "data": {
      "text/plain": [
       "['211009_Vanyushkin_1.csv',\n",
       " '211010_Vanyushkin_2.csv',\n",
       " '211011_Lavrov_1.csv',\n",
       " '211011_Pochestnev_1.csv',\n",
       " '211011_Sinkevich_1.csv',\n",
       " '211012_Golubev_1.csv',\n",
       " '211012_Gulyaev_1.csv',\n",
       " '211012_Gulyaev_2.csv',\n",
       " '211012_Pochestnev_2.csv',\n",
       " '211012_Vanyushkin_3.csv',\n",
       " '211012_Vasenkov_1.csv',\n",
       " '211013_Gulyaev_3.csv',\n",
       " '211013_Kudryavtsev_1.csv',\n",
       " '211013_Kudryavtsev_2.csv',\n",
       " '211013_Kuzin_1.csv',\n",
       " '211013_Pochestnev_3.csv',\n",
       " '211013_Sinkevich_2.csv',\n",
       " '211213_Mandrov_1.csv',\n",
       " '211411_Lavrov_2.csv']"
      ]
     },
     "execution_count": 15,
     "metadata": {},
     "output_type": "execute_result"
    }
   ],
   "source": [
    "os.listdir(\"./res_1\")"
   ]
  },
  {
   "cell_type": "code",
   "execution_count": 16,
   "metadata": {},
   "outputs": [],
   "source": [
    "res_list = []\n",
    "cur_dict = {}\n",
    "\n",
    "for elem in os.listdir(\"./res_1\"):\n",
    "    df_test = pd.read_csv(f'./res_1/{elem}')\n",
    "    pred_values = df_test['median_house_value']\n",
    "    cur_dict['Att'] = elem\n",
    "    cur_dict['Res'] = round(r2(true_values, pred_values), 5)\n",
    "    res_list.append(cur_dict.copy())\n",
    "    cur_duct = {}"
   ]
  },
  {
   "cell_type": "code",
   "execution_count": 17,
   "metadata": {
    "scrolled": true
   },
   "outputs": [
    {
     "data": {
      "text/html": [
       "<div>\n",
       "<style scoped>\n",
       "    .dataframe tbody tr th:only-of-type {\n",
       "        vertical-align: middle;\n",
       "    }\n",
       "\n",
       "    .dataframe tbody tr th {\n",
       "        vertical-align: top;\n",
       "    }\n",
       "\n",
       "    .dataframe thead th {\n",
       "        text-align: right;\n",
       "    }\n",
       "</style>\n",
       "<table border=\"1\" class=\"dataframe\">\n",
       "  <thead>\n",
       "    <tr style=\"text-align: right;\">\n",
       "      <th></th>\n",
       "      <th>Att</th>\n",
       "      <th>Res</th>\n",
       "    </tr>\n",
       "  </thead>\n",
       "  <tbody>\n",
       "    <tr>\n",
       "      <th>10</th>\n",
       "      <td>211012_Vasenkov_1.csv</td>\n",
       "      <td>0.83867</td>\n",
       "    </tr>\n",
       "    <tr>\n",
       "      <th>11</th>\n",
       "      <td>211013_Gulyaev_3.csv</td>\n",
       "      <td>0.83661</td>\n",
       "    </tr>\n",
       "    <tr>\n",
       "      <th>15</th>\n",
       "      <td>211013_Pochestnev_3.csv</td>\n",
       "      <td>0.83398</td>\n",
       "    </tr>\n",
       "    <tr>\n",
       "      <th>7</th>\n",
       "      <td>211012_Gulyaev_2.csv</td>\n",
       "      <td>0.83332</td>\n",
       "    </tr>\n",
       "    <tr>\n",
       "      <th>14</th>\n",
       "      <td>211013_Kuzin_1.csv</td>\n",
       "      <td>0.83282</td>\n",
       "    </tr>\n",
       "    <tr>\n",
       "      <th>16</th>\n",
       "      <td>211013_Sinkevich_2.csv</td>\n",
       "      <td>0.83200</td>\n",
       "    </tr>\n",
       "    <tr>\n",
       "      <th>1</th>\n",
       "      <td>211010_Vanyushkin_2.csv</td>\n",
       "      <td>0.83171</td>\n",
       "    </tr>\n",
       "    <tr>\n",
       "      <th>6</th>\n",
       "      <td>211012_Gulyaev_1.csv</td>\n",
       "      <td>0.83024</td>\n",
       "    </tr>\n",
       "    <tr>\n",
       "      <th>17</th>\n",
       "      <td>211213_Mandrov_1.csv</td>\n",
       "      <td>0.82964</td>\n",
       "    </tr>\n",
       "    <tr>\n",
       "      <th>4</th>\n",
       "      <td>211011_Sinkevich_1.csv</td>\n",
       "      <td>0.82958</td>\n",
       "    </tr>\n",
       "    <tr>\n",
       "      <th>3</th>\n",
       "      <td>211011_Pochestnev_1.csv</td>\n",
       "      <td>0.82957</td>\n",
       "    </tr>\n",
       "    <tr>\n",
       "      <th>9</th>\n",
       "      <td>211012_Vanyushkin_3.csv</td>\n",
       "      <td>0.82924</td>\n",
       "    </tr>\n",
       "    <tr>\n",
       "      <th>0</th>\n",
       "      <td>211009_Vanyushkin_1.csv</td>\n",
       "      <td>0.82700</td>\n",
       "    </tr>\n",
       "    <tr>\n",
       "      <th>8</th>\n",
       "      <td>211012_Pochestnev_2.csv</td>\n",
       "      <td>0.82600</td>\n",
       "    </tr>\n",
       "    <tr>\n",
       "      <th>18</th>\n",
       "      <td>211411_Lavrov_2.csv</td>\n",
       "      <td>0.82473</td>\n",
       "    </tr>\n",
       "    <tr>\n",
       "      <th>5</th>\n",
       "      <td>211012_Golubev_1.csv</td>\n",
       "      <td>0.82233</td>\n",
       "    </tr>\n",
       "    <tr>\n",
       "      <th>13</th>\n",
       "      <td>211013_Kudryavtsev_2.csv</td>\n",
       "      <td>0.74797</td>\n",
       "    </tr>\n",
       "    <tr>\n",
       "      <th>12</th>\n",
       "      <td>211013_Kudryavtsev_1.csv</td>\n",
       "      <td>0.74797</td>\n",
       "    </tr>\n",
       "    <tr>\n",
       "      <th>2</th>\n",
       "      <td>211011_Lavrov_1.csv</td>\n",
       "      <td>-0.67780</td>\n",
       "    </tr>\n",
       "  </tbody>\n",
       "</table>\n",
       "</div>"
      ],
      "text/plain": [
       "                         Att      Res\n",
       "10     211012_Vasenkov_1.csv  0.83867\n",
       "11      211013_Gulyaev_3.csv  0.83661\n",
       "15   211013_Pochestnev_3.csv  0.83398\n",
       "7       211012_Gulyaev_2.csv  0.83332\n",
       "14        211013_Kuzin_1.csv  0.83282\n",
       "16    211013_Sinkevich_2.csv  0.83200\n",
       "1    211010_Vanyushkin_2.csv  0.83171\n",
       "6       211012_Gulyaev_1.csv  0.83024\n",
       "17      211213_Mandrov_1.csv  0.82964\n",
       "4     211011_Sinkevich_1.csv  0.82958\n",
       "3    211011_Pochestnev_1.csv  0.82957\n",
       "9    211012_Vanyushkin_3.csv  0.82924\n",
       "0    211009_Vanyushkin_1.csv  0.82700\n",
       "8    211012_Pochestnev_2.csv  0.82600\n",
       "18       211411_Lavrov_2.csv  0.82473\n",
       "5       211012_Golubev_1.csv  0.82233\n",
       "13  211013_Kudryavtsev_2.csv  0.74797\n",
       "12  211013_Kudryavtsev_1.csv  0.74797\n",
       "2        211011_Lavrov_1.csv -0.67780"
      ]
     },
     "execution_count": 17,
     "metadata": {},
     "output_type": "execute_result"
    }
   ],
   "source": [
    "pd.DataFrame(res_list).sort_values('Res', ascending=False)"
   ]
  },
  {
   "cell_type": "code",
   "execution_count": null,
   "metadata": {},
   "outputs": [],
   "source": []
  }
 ],
 "metadata": {
  "kernelspec": {
   "display_name": "Python 3 (ipykernel)",
   "language": "python",
   "name": "python3"
  },
  "language_info": {
   "codemirror_mode": {
    "name": "ipython",
    "version": 3
   },
   "file_extension": ".py",
   "mimetype": "text/x-python",
   "name": "python",
   "nbconvert_exporter": "python",
   "pygments_lexer": "ipython3",
   "version": "3.8.10"
  }
 },
 "nbformat": 4,
 "nbformat_minor": 2
}
